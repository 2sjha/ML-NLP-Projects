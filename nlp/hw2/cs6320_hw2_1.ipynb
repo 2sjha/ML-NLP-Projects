{
  "cells": [
    {
      "cell_type": "markdown",
      "metadata": {
        "id": "NwWcO4TZYtpd"
      },
      "source": [
        "## Shubham Shekhar Jha (sxj220028)\n",
        "### CS6320 - NLP\n",
        "### HW2 - Part 1"
      ]
    },
    {
      "cell_type": "markdown",
      "metadata": {},
      "source": [
        "Read and process the file to create the Unigrams and Bigrams dictionaries"
      ]
    },
    {
      "cell_type": "code",
      "execution_count": 44,
      "metadata": {
        "id": "p1VDaP2VYSxh"
      },
      "outputs": [],
      "source": [
        "from typing import Dict\n",
        "import nltk\n",
        "\n",
        "\n",
        "def processs_file(filename: str) -> (Dict[str, int], Dict[str, int]):\n",
        "    text = \"\"\n",
        "    with open(filename) as f:\n",
        "        text = f.read()\n",
        "\n",
        "    text.replace(\"\\n\", \"\")\n",
        "    text_tokens = nltk.word_tokenize(text)\n",
        "    unigrams = text_tokens\n",
        "    bigrams = list(nltk.ngrams(text_tokens, 2))\n",
        "\n",
        "    # Iterate the list to create the Bigrams dict instead of using the count method\n",
        "    # list.count() has complexity O(n) and calling it repeatedly will increase the total time significantly\n",
        "    bigrams_dict = {}\n",
        "    for bigram in bigrams:\n",
        "        if bigram in bigrams_dict:\n",
        "            bigrams_dict[bigram] += 1\n",
        "        else:\n",
        "            bigrams_dict[bigram] = 1\n",
        "\n",
        "    unigrams_dict = {}\n",
        "    for unigram in unigrams:\n",
        "        if unigram in unigrams_dict:\n",
        "            unigrams_dict[unigram] += 1\n",
        "        else:\n",
        "            unigrams_dict[unigram] = 1\n",
        "\n",
        "    return (unigrams_dict, bigrams_dict)"
      ]
    },
    {
      "cell_type": "markdown",
      "metadata": {},
      "source": [
        "Save the processed dictionaries as .pickle objects on the disk "
      ]
    },
    {
      "cell_type": "code",
      "execution_count": 45,
      "metadata": {
        "id": "PoAN7FKlc9Ci"
      },
      "outputs": [],
      "source": [
        "import pickle\n",
        "\n",
        "eng_unigrams, eng_bigrams = processs_file(\"LangId.train.English.txt\")\n",
        "fr_unigrams, fr_bigrams = processs_file(\"LangId.train.French.txt\")\n",
        "it_unigrams, it_bigrams = processs_file(\"LangId.train.Italian.txt\")\n",
        "\n",
        "with open(\"eng_unigrams.pickle\", \"wb\") as handle:\n",
        "    pickle.dump(eng_unigrams, handle, protocol=pickle.HIGHEST_PROTOCOL)\n",
        "with open(\"eng_bigrams.pickle\", \"wb\") as handle:\n",
        "    pickle.dump(eng_bigrams, handle, protocol=pickle.HIGHEST_PROTOCOL)\n",
        "\n",
        "with open(\"fr_unigrams.pickle\", \"wb\") as handle:\n",
        "    pickle.dump(fr_unigrams, handle, protocol=pickle.HIGHEST_PROTOCOL)\n",
        "with open(\"fr_bigrams.pickle\", \"wb\") as handle:\n",
        "    pickle.dump(fr_bigrams, handle, protocol=pickle.HIGHEST_PROTOCOL)\n",
        "\n",
        "with open(\"it_unigrams.pickle\", \"wb\") as handle:\n",
        "    pickle.dump(it_unigrams, handle, protocol=pickle.HIGHEST_PROTOCOL)\n",
        "with open(\"it_bigrams.pickle\", \"wb\") as handle:\n",
        "    pickle.dump(it_bigrams, handle, protocol=pickle.HIGHEST_PROTOCOL)"
      ]
    }
  ],
  "metadata": {
    "colab": {
      "provenance": []
    },
    "kernelspec": {
      "display_name": "Python 3",
      "name": "python3"
    },
    "language_info": {
      "codemirror_mode": {
        "name": "ipython",
        "version": 3
      },
      "file_extension": ".py",
      "mimetype": "text/x-python",
      "name": "python",
      "nbconvert_exporter": "python",
      "pygments_lexer": "ipython3",
      "version": "3.10.12"
    }
  },
  "nbformat": 4,
  "nbformat_minor": 0
}
